{
 "cells": [
  {
   "cell_type": "code",
   "execution_count": 36,
   "metadata": {
    "collapsed": false,
    "execution": {
     "iopub.execute_input": "2023-01-24T10:55:57.938673Z",
     "iopub.status.busy": "2023-01-24T10:55:57.937373Z",
     "iopub.status.idle": "2023-01-24T10:55:58.203158Z",
     "shell.execute_reply": "2023-01-24T10:55:58.202008Z",
     "shell.execute_reply.started": "2023-01-24T10:55:57.938635Z"
    },
    "jupyter": {
     "outputs_hidden": false
    },
    "scrolled": true
   },
   "outputs": [
    {
     "name": "stdout",
     "output_type": "stream",
     "text": [
      "data187717\r\n"
     ]
    }
   ],
   "source": [
    "# 查看当前挂载的数据集目录, 该目录下的变更重启环境后会自动还原\n",
    "# View dataset directory. \n",
    "# This directory will be recovered automatically after resetting environment. \n",
    "!ls /home/aistudio/data"
   ]
  },
  {
   "cell_type": "code",
   "execution_count": 37,
   "metadata": {
    "collapsed": false,
    "execution": {
     "iopub.execute_input": "2023-01-24T10:55:59.489436Z",
     "iopub.status.busy": "2023-01-24T10:55:59.488811Z",
     "iopub.status.idle": "2023-01-24T10:55:59.756953Z",
     "shell.execute_reply": "2023-01-24T10:55:59.755807Z",
     "shell.execute_reply.started": "2023-01-24T10:55:59.489404Z"
    },
    "jupyter": {
     "outputs_hidden": false
    },
    "scrolled": true
   },
   "outputs": [],
   "source": [
    "# 查看工作区文件, 该目录下的变更将会持久保存. 请及时清理不必要的文件, 避免加载过慢.\n",
    "# View personal work directory. \n",
    "# All changes under this directory will be kept even after reset. \n",
    "# Please clean unnecessary files in time to speed up environment loading. \n",
    "!ls /home/aistudio/work"
   ]
  },
  {
   "cell_type": "code",
   "execution_count": 38,
   "metadata": {
    "collapsed": false,
    "execution": {
     "iopub.execute_input": "2023-01-24T10:56:01.937799Z",
     "iopub.status.busy": "2023-01-24T10:56:01.937114Z",
     "iopub.status.idle": "2023-01-24T10:56:04.818335Z",
     "shell.execute_reply": "2023-01-24T10:56:04.817127Z",
     "shell.execute_reply.started": "2023-01-24T10:56:01.937762Z"
    },
    "jupyter": {
     "outputs_hidden": false
    },
    "scrolled": true
   },
   "outputs": [
    {
     "name": "stdout",
     "output_type": "stream",
     "text": [
      "mkdir: 无法创建目录\"/home/aistudio/external-libraries\": 文件已存在\r\n",
      "Looking in indexes: https://pypi.tuna.tsinghua.edu.cn/simple\r\n",
      "Collecting beautifulsoup4\r\n",
      "  Using cached https://pypi.tuna.tsinghua.edu.cn/packages/9c/d8/909c4089dbe4ade9f9705f143c9f13f065049a9d5e7d34c828aefdd0a97c/beautifulsoup4-4.11.1-py3-none-any.whl (128 kB)\r\n",
      "Collecting soupsieve>1.2\r\n",
      "  Using cached https://pypi.tuna.tsinghua.edu.cn/packages/16/e3/4ad79882b92617e3a4a0df1960d6bce08edfb637737ac5c3f3ba29022e25/soupsieve-2.3.2.post1-py3-none-any.whl (37 kB)\r\n",
      "Installing collected packages: soupsieve, beautifulsoup4\r\n",
      "Successfully installed beautifulsoup4-4.11.1 soupsieve-2.3.2.post1\r\n",
      "\u001b[33mWARNING: Target directory /home/aistudio/external-libraries/beautifulsoup4-4.11.1.dist-info already exists. Specify --upgrade to force replacement.\u001b[0m\u001b[33m\r\n",
      "\u001b[0m\u001b[33mWARNING: Target directory /home/aistudio/external-libraries/soupsieve-2.3.2.post1.dist-info already exists. Specify --upgrade to force replacement.\u001b[0m\u001b[33m\r\n",
      "\u001b[0m\u001b[33mWARNING: Target directory /home/aistudio/external-libraries/bs4 already exists. Specify --upgrade to force replacement.\u001b[0m\u001b[33m\r\n",
      "\u001b[0m\u001b[33mWARNING: Target directory /home/aistudio/external-libraries/soupsieve already exists. Specify --upgrade to force replacement.\u001b[0m\u001b[33m\r\n",
      "\u001b[0m\r\n",
      "\u001b[1m[\u001b[0m\u001b[34;49mnotice\u001b[0m\u001b[1;39;49m]\u001b[0m\u001b[39;49m A new release of pip available: \u001b[0m\u001b[31;49m22.1.2\u001b[0m\u001b[39;49m -> \u001b[0m\u001b[32;49m22.3.1\u001b[0m\r\n",
      "\u001b[1m[\u001b[0m\u001b[34;49mnotice\u001b[0m\u001b[1;39;49m]\u001b[0m\u001b[39;49m To update, run: \u001b[0m\u001b[32;49mpip install --upgrade pip\u001b[0m\r\n"
     ]
    }
   ],
   "source": [
    "# 如果需要进行持久化安装, 需要使用持久化路径, 如下方代码示例:\n",
    "# If a persistence installation is required, \n",
    "# you need to use the persistence path as the following: \n",
    "!mkdir /home/aistudio/external-libraries\n",
    "!pip install beautifulsoup4 -t /home/aistudio/external-libraries"
   ]
  },
  {
   "cell_type": "code",
   "execution_count": 26,
   "metadata": {
    "collapsed": false,
    "execution": {
     "iopub.execute_input": "2023-01-24T10:48:09.743849Z",
     "iopub.status.busy": "2023-01-24T10:48:09.743271Z",
     "iopub.status.idle": "2023-01-24T10:48:09.748688Z",
     "shell.execute_reply": "2023-01-24T10:48:09.747828Z",
     "shell.execute_reply.started": "2023-01-24T10:48:09.743815Z"
    },
    "jupyter": {
     "outputs_hidden": false
    },
    "scrolled": true
   },
   "outputs": [],
   "source": [
    "# 同时添加如下代码, 这样每次环境(kernel)启动的时候只要运行下方代码即可: \n",
    "# Also add the following code, \n",
    "# so that every time the environment (kernel) starts, \n",
    "# just run the following code: \n",
    "import sys \n",
    "sys.path.append('/home/aistudio/external-libraries')"
   ]
  },
  {
   "cell_type": "code",
   "execution_count": 39,
   "metadata": {
    "execution": {
     "iopub.execute_input": "2023-01-24T10:56:04.840152Z",
     "iopub.status.busy": "2023-01-24T10:56:04.839865Z",
     "iopub.status.idle": "2023-01-24T10:56:04.850943Z",
     "shell.execute_reply": "2023-01-24T10:56:04.850086Z",
     "shell.execute_reply.started": "2023-01-24T10:56:04.840117Z"
    },
    "scrolled": true
   },
   "outputs": [],
   "source": [
    "#数据读取\n",
    "# 导入深度学习框架\n",
    "import paddle\n",
    "import paddle.nn.functional as F\n",
    "import paddle.nn.initializer as I\n",
    "import re\n",
    "import os\n",
    "import jieba\n",
    "import random\n",
    "import tarfile\n",
    "import requests\n",
    "import numpy as np\n",
    "from collections import Counter\n",
    "from collections import defaultdict\n",
    "\n",
    "def load_dataset(path):\n",
    "    # 生成加载数据的地址\n",
    "    train_path = os.path.join(path, \"train.txt\")\n",
    "    test_path = os.path.join(path, \"dev.txt\")\n",
    "    dict_path = os.path.join(path, \"dict_word.txt\")  # 词典表\n",
    "    label_path = os.path.join(path, \"label_dict.txt\") # 1和-1对应积极消极\n",
    "\n",
    "    # 加载词典\n",
    "    with open(dict_path, \"r\", encoding=\"utf-8\") as f:\n",
    "        words = [word.strip() for word in f.readlines()]\n",
    "        word_dict = dict(zip(words, range(len(words))))\n",
    "\n",
    "    # 加载标签词典\n",
    "    with open(label_path, \"r\", encoding=\"utf-8\") as f:\n",
    "        lines = [line.strip().split() for line in f.readlines()]\n",
    "        lines = [(line[0], int(line[1])) for line in lines]\n",
    "        label_dict = dict(lines)\n",
    "\n",
    "    def load_data(data_path):\n",
    "        data_set = []\n",
    "        with open(data_path, \"r\", encoding=\"utf-8\") as f:\n",
    "            for line in f.readlines():\n",
    "                label, text = line.strip().split(\"\\t\", maxsplit=1)\n",
    "                data_set.append((text, label))\n",
    "        return data_set\n",
    "    train_set = load_data(train_path)\n",
    "    test_set = load_data(test_path)\n",
    "\n",
    "    return train_set, test_set, word_dict, label_dict"
   ]
  },
  {
   "cell_type": "code",
   "execution_count": 28,
   "metadata": {
    "execution": {
     "iopub.execute_input": "2023-01-24T10:48:14.687398Z",
     "iopub.status.busy": "2023-01-24T10:48:14.686760Z",
     "iopub.status.idle": "2023-01-24T10:48:14.692835Z",
     "shell.execute_reply": "2023-01-24T10:48:14.691986Z",
     "shell.execute_reply.started": "2023-01-24T10:48:14.687366Z"
    },
    "scrolled": true
   },
   "outputs": [],
   "source": [
    "# 将文本序列进行分词，然后词转换为字典ID\n",
    "def convert_corpus_to_id(data_set, word_dict, label_dict):\n",
    "    tmp_data_set = []\n",
    "    for text, label in data_set:\n",
    "        text = [word_dict.get(word, word_dict[\"[oov]\"]) for word in jieba.cut(text)]\n",
    "        tmp_data_set.append((text, label_dict[label]))\n",
    "\n",
    "    return tmp_data_set"
   ]
  },
  {
   "cell_type": "code",
   "execution_count": 40,
   "metadata": {
    "execution": {
     "iopub.execute_input": "2023-01-24T10:56:05.756398Z",
     "iopub.status.busy": "2023-01-24T10:56:05.755863Z",
     "iopub.status.idle": "2023-01-24T10:56:05.763823Z",
     "shell.execute_reply": "2023-01-24T10:56:05.763001Z",
     "shell.execute_reply.started": "2023-01-24T10:56:05.756366Z"
    },
    "scrolled": true
   },
   "outputs": [],
   "source": [
    "# 组装minibatch\n",
    "# 构造训练数据，每次传入模型一个batch，一个batch里面有batch_size条样本\n",
    "def build_batch(data_set,  batch_size, max_seq_len, shuffle=True, drop_last=True, pad_id=1):\n",
    "    batch_text = []\n",
    "    batch_label = []\n",
    "\n",
    "    if shuffle:\n",
    "        random.shuffle(data_set)\n",
    "\n",
    "    for text, label in data_set:\n",
    "        # 截断数据\n",
    "        text = text[:max_seq_len]\n",
    "        # 填充数据到固定长度\n",
    "        if len(text) < max_seq_len:\n",
    "            text.extend([pad_id]*(max_seq_len-len(text)))\n",
    "\n",
    "        assert len(text) == max_seq_len\n",
    "        batch_text.append(text)\n",
    "        batch_label.append([label])\n",
    "\n",
    "        if len(batch_text) == batch_size:\n",
    "            yield np.array(batch_text).astype(\"int64\"), np.array(batch_label).astype(\"int64\")\n",
    "            batch_text.clear()\n",
    "            batch_label.clear()\n",
    "\n",
    "    # 处理是否删掉最后一个不足batch_size 的batch数据\n",
    "    if (not drop_last) and len(batch_label) > 0:\n",
    "        yield np.array(batch_text).astype(\"int64\"), np.array(batch_label).astype(\"int64\")"
   ]
  },
  {
   "cell_type": "markdown",
   "metadata": {},
   "source": [
    "* 对于给定的一个新闻文本，经过分词后，便可获得一串单词序列（$x_1$……$x_T$），每个单词均可映射为对应的词向量（$e_1$……$e_T$），将这些词向量，按照时间步骤依次传入Bi-LSTM中；\n",
    "* Bi-LSTM接收到这些向量后，会在每个单词的位置输出一个前向向量 $\\stackrel{\\rightarrow}{h_i}$ 和后向向量 $\\stackrel{\\leftarrow}{h_i}$，然后将每个时间步骤对应的两个向量进行拼接，作为最终的输出向量 $h_i$。由于$h_i$融合了上下文信息，暂且称之为上下文向量； \n",
    "* 在这些上下文向量中应用Attention机制，获得整个文本序列的语义向量；   \n",
    "* 将语义向量传入全连接层和softmax，就可以得到这个新闻标题的文本类别。\n"
   ]
  },
  {
   "cell_type": "code",
   "execution_count": 41,
   "metadata": {
    "execution": {
     "iopub.execute_input": "2023-01-24T10:56:07.708520Z",
     "iopub.status.busy": "2023-01-24T10:56:07.707902Z",
     "iopub.status.idle": "2023-01-24T10:56:07.716028Z",
     "shell.execute_reply": "2023-01-24T10:56:07.715260Z",
     "shell.execute_reply.started": "2023-01-24T10:56:07.708485Z"
    },
    "scrolled": true
   },
   "outputs": [],
   "source": [
    "# attention \n",
    "class AttentionLayer(paddle.nn.Layer):\n",
    "    def __init__(self, hidden_size, init_scale=0.1):\n",
    "        super(AttentionLayer, self).__init__()\n",
    "        self.w = paddle.create_parameter(shape=[hidden_size, hidden_size], dtype=\"float32\")\n",
    "        self.v = paddle.create_parameter(shape=[1, hidden_size], dtype=\"float32\")\n",
    "\n",
    "    def forward(self, inputs):\n",
    "        # inputs:  [batch_size, seq_len, hidden_size]\n",
    "        last_layers_hiddens = inputs\n",
    "        # transposed inputs: [batch_size, hidden_size, seq_len]\n",
    "        inputs = paddle.transpose(inputs, perm=[0, 2, 1])\n",
    "        # inputs: [batch_size, hidden_size, seq_len]\n",
    "        inputs = paddle.tanh(paddle.matmul(self.w, inputs))\n",
    "        # attn_weights: [batch_size, 1, seq_len]\n",
    "        attn_weights = paddle.matmul(self.v, inputs)\n",
    "        # softmax数值归一化\n",
    "        attn_weights = F.softmax(attn_weights, axis=-1)\n",
    "        # 通过attention后的向量值, attn_vectors: [batch_size, 1, hidden_size]\n",
    "        attn_vectors = paddle.matmul(attn_weights, last_layers_hiddens)\n",
    "        # attn_vectors: [batch_size, hidden_size]\n",
    "        attn_vectors = paddle.squeeze(attn_vectors, axis=1)\n",
    "\n",
    "        return attn_vectors"
   ]
  },
  {
   "cell_type": "code",
   "execution_count": 42,
   "metadata": {
    "execution": {
     "iopub.execute_input": "2023-01-24T10:56:09.978785Z",
     "iopub.status.busy": "2023-01-24T10:56:09.978133Z",
     "iopub.status.idle": "2023-01-24T10:56:09.989533Z",
     "shell.execute_reply": "2023-01-24T10:56:09.988788Z",
     "shell.execute_reply.started": "2023-01-24T10:56:09.978751Z"
    },
    "scrolled": true
   },
   "outputs": [],
   "source": [
    "# 分类器构建 \n",
    "\n",
    "class Classifier(paddle.nn.Layer):\n",
    "    def __init__(self, hidden_size, embedding_size, vocab_size, n_classes=14, n_layers=1, direction=\"bidirectional\",\n",
    "                 dropout_rate=0., init_scale=0.05):\n",
    "        super(Classifier, self).__init__()\n",
    "        # 表示LSTM单元的隐藏神经元数量，它也将用来表示hidden和cell向量状态的维度\n",
    "        self.hidden_size = hidden_size\n",
    "        # 表示词向量的维度\n",
    "        self.embedding_size = embedding_size\n",
    "        # 表示神经元的dropout概率\n",
    "        self.dropout_rate = dropout_rate\n",
    "        # 表示词典的的单词数量\n",
    "        self.vocab_size = vocab_size\n",
    "        # 表示文本分类的类别数量\n",
    "        self.n_classes = n_classes\n",
    "        # 表示LSTM的层数\n",
    "        self.n_layers = n_layers\n",
    "        # 用来设置参数初始化范围\n",
    "        self.init_scale = init_scale\n",
    "\n",
    "        # 定义embedding层\n",
    "        self.embedding = paddle.nn.Embedding(num_embeddings=self.vocab_size, embedding_dim=self.embedding_size,\n",
    "                                             weight_attr=paddle.ParamAttr(\n",
    "                                                 initializer=I.Uniform(low=-self.init_scale, high=self.init_scale)))\n",
    "        \n",
    "        # 定义LSTM，它将用来编码网络\n",
    "        self.lstm = paddle.nn.LSTM(input_size=self.embedding_size, hidden_size=self.hidden_size,\n",
    "                                   num_layers=self.n_layers, direction=direction,\n",
    "                                   dropout=self.dropout_rate)\n",
    "\n",
    "\n",
    "        # 对词向量进行dropout\n",
    "        self.dropout_emb = paddle.nn.Dropout(p=self.dropout_rate, mode=\"upscale_in_train\")\n",
    "\n",
    "        # 定义Attention层\n",
    "        self.attention = AttentionLayer(hidden_size=hidden_size*2 if direction == \"bidirectional\" else hidden_size)\n",
    "\n",
    "        # 定义分类层，用于将语义向量映射到相应的类别\n",
    "        self.cls_fc = paddle.nn.Linear(in_features=self.hidden_size*2 if direction == \"bidirectional\" else hidden_size,\n",
    "                                       out_features=self.n_classes)\n",
    "\n",
    "    def forward(self, inputs):\n",
    "        # 获取训练的batch_size\n",
    "        batch_size = inputs.shape[0]\n",
    "        # 获取词向量并且进行dropout\n",
    "        embedded_input = self.embedding(inputs)\n",
    "        if self.dropout_rate > 0.:\n",
    "            embedded_input = self.dropout_emb(embedded_input)\n",
    "\n",
    "        # 使用LSTM进行语义编码\n",
    "        last_layers_hiddens, (last_step_hiddens, last_step_cells) = self.lstm(embedded_input)\n",
    "\n",
    "        # 进行Attention, attn_weights: [batch_size, seq_len]\n",
    "        attn_vectors = self.attention(last_layers_hiddens)\n",
    "\n",
    "        # 通过attention后的向量值, attn_vector: [batch_size, 1, hidden_size]\n",
    "        # attn_vector = paddle.matmul(attn_weights, last_layers_hiddens)\n",
    "        # attn_vector: [batch_size, hidden_size]\n",
    "        # attn_vector = paddle.squeeze(attn_vector, axis=1)\n",
    "\n",
    "        # 将其通过分类线性层，获得初步的类别数值\n",
    "        logits = self.cls_fc(attn_vectors)\n",
    "\n",
    "        return logits\n"
   ]
  },
  {
   "cell_type": "markdown",
   "metadata": {},
   "source": [
    "## 参数配置"
   ]
  },
  {
   "cell_type": "code",
   "execution_count": 47,
   "metadata": {
    "execution": {
     "iopub.execute_input": "2023-01-24T10:58:01.899347Z",
     "iopub.status.busy": "2023-01-24T10:58:01.898682Z",
     "iopub.status.idle": "2023-01-24T10:58:02.277255Z",
     "shell.execute_reply": "2023-01-24T10:58:02.276176Z",
     "shell.execute_reply.started": "2023-01-24T10:58:01.899314Z"
    },
    "scrolled": true,
    "tags": []
   },
   "outputs": [
    {
     "name": "stdout",
     "output_type": "stream",
     "text": [
      "8852\r\n"
     ]
    }
   ],
   "source": [
    "# 加载数据集\n",
    "root_path = \"./data/data187717\"\n",
    "train_set, test_set, word_dict, label_dict = load_dataset(root_path)\n",
    "train_set = convert_corpus_to_id(train_set, word_dict, label_dict)\n",
    "test_set = convert_corpus_to_id(test_set, word_dict, label_dict)\n",
    "id2label = dict([(item[1], item[0]) for item in label_dict.items()])\n",
    "\n",
    "# 参数设置\n",
    "n_epochs = 15\n",
    "vocab_size = len(word_dict.keys())\n",
    "print(vocab_size)\n",
    "batch_size = 128\n",
    "hidden_size = 128\n",
    "embedding_size = 128\n",
    "n_classes = 2\n",
    "max_seq_len = 32\n",
    "n_layers = 1\n",
    "dropout_rate = 0.2\n",
    "learning_rate = 0.0001\n",
    "direction = \"bidirectional\"\n",
    "\n",
    "# 检测是否可以使用GPU，如果可以优先使用GPU\n",
    "use_gpu = True if paddle.get_device().startswith(\"gpu\") else False\n",
    "if use_gpu:\n",
    "    paddle.set_device('gpu:0')\n",
    "\n",
    "# 实例化模型\n",
    "classifier = Classifier(hidden_size, embedding_size, vocab_size, n_classes=n_classes, n_layers=n_layers,\n",
    "                        direction=direction, dropout_rate=dropout_rate)\n",
    "\n",
    "# 指定优化器\n",
    "optimizer = paddle.optimizer.Adam(learning_rate=learning_rate, beta1=0.9, beta2=0.99,\n",
    "                                  parameters=classifier.parameters())"
   ]
  },
  {
   "cell_type": "code",
   "execution_count": 48,
   "metadata": {
    "execution": {
     "iopub.execute_input": "2023-01-24T10:58:06.440395Z",
     "iopub.status.busy": "2023-01-24T10:58:06.439826Z",
     "iopub.status.idle": "2023-01-24T11:02:41.136541Z",
     "shell.execute_reply": "2023-01-24T11:02:41.135689Z",
     "shell.execute_reply.started": "2023-01-24T10:58:06.440352Z"
    },
    "scrolled": true,
    "tags": []
   },
   "outputs": [
    {
     "name": "stdout",
     "output_type": "stream",
     "text": [
      "Epoch: 1/15 - Step: 0 - Loss: 0.6925662755966187\r\n",
      "\r\n",
      "\r\n",
      "Total: Precision: 0.4229 - Recall: 0.4229 - F1: 0.4229\r\n",
      "Entity: 积极 - Precision: 0.4229 - Recall: 1.0 - F1: 0.5944\r\n",
      "Entity: 消极 - Precision: 0 - Recall: 0.0 - F1: 0.0\r\n",
      "\r\n",
      "\r\n",
      "Epoch: 2/15 - Step: 0 - Loss: 0.6858921051025391\r\n",
      "\r\n",
      "\r\n",
      "Total: Precision: 0.4229 - Recall: 0.4229 - F1: 0.4229\r\n",
      "Entity: 积极 - Precision: 0.4229 - Recall: 1.0 - F1: 0.5944\r\n",
      "Entity: 消极 - Precision: 0 - Recall: 0.0 - F1: 0.0\r\n",
      "\r\n",
      "\r\n",
      "Epoch: 3/15 - Step: 0 - Loss: 0.686686098575592\r\n",
      "\r\n",
      "\r\n",
      "Total: Precision: 0.6661 - Recall: 0.6661 - F1: 0.6661\r\n",
      "Entity: 积极 - Precision: 0.5718 - Recall: 0.8378 - F1: 0.6797\r\n",
      "Entity: 消极 - Precision: 0.8196 - Recall: 0.5403 - F1: 0.6513\r\n",
      "\r\n",
      "\r\n",
      "Epoch: 4/15 - Step: 0 - Loss: 0.5887160301208496\r\n",
      "\r\n",
      "\r\n",
      "Total: Precision: 0.6658 - Recall: 0.6658 - F1: 0.6658\r\n",
      "Entity: 积极 - Precision: 0.5751 - Recall: 0.8024 - F1: 0.67\r\n",
      "Entity: 消极 - Precision: 0.7962 - Recall: 0.5656 - F1: 0.6614\r\n",
      "\r\n",
      "\r\n",
      "Epoch: 5/15 - Step: 0 - Loss: 0.493984580039978\r\n",
      "\r\n",
      "\r\n",
      "Total: Precision: 0.6675 - Recall: 0.6675 - F1: 0.6675\r\n",
      "Entity: 积极 - Precision: 0.5771 - Recall: 0.8 - F1: 0.6705\r\n",
      "Entity: 消极 - Precision: 0.7956 - Recall: 0.5703 - F1: 0.6644\r\n",
      "\r\n",
      "\r\n",
      "Epoch: 6/15 - Step: 0 - Loss: 0.5132033824920654\r\n",
      "\r\n",
      "\r\n",
      "Total: Precision: 0.6692 - Recall: 0.6692 - F1: 0.6692\r\n",
      "Entity: 积极 - Precision: 0.5786 - Recall: 0.8016 - F1: 0.6721\r\n",
      "Entity: 消极 - Precision: 0.7974 - Recall: 0.5721 - F1: 0.6662\r\n",
      "\r\n",
      "\r\n",
      "Epoch: 7/15 - Step: 0 - Loss: 0.46606728434562683\r\n",
      "\r\n",
      "\r\n",
      "Total: Precision: 0.6695 - Recall: 0.6695 - F1: 0.6695\r\n",
      "Entity: 积极 - Precision: 0.5726 - Recall: 0.861 - F1: 0.6878\r\n",
      "Entity: 消极 - Precision: 0.8386 - Recall: 0.5291 - F1: 0.6489\r\n",
      "\r\n",
      "\r\n",
      "Epoch: 8/15 - Step: 0 - Loss: 0.484201580286026\r\n",
      "\r\n",
      "\r\n",
      "Total: Precision: 0.6644 - Recall: 0.6644 - F1: 0.6644\r\n",
      "Entity: 积极 - Precision: 0.5715 - Recall: 0.8249 - F1: 0.6752\r\n",
      "Entity: 消极 - Precision: 0.8099 - Recall: 0.5468 - F1: 0.6528\r\n",
      "\r\n",
      "\r\n",
      "Epoch: 9/15 - Step: 0 - Loss: 0.4815380871295929\r\n",
      "\r\n",
      "\r\n",
      "Total: Precision: 0.6661 - Recall: 0.6661 - F1: 0.6661\r\n",
      "Entity: 积极 - Precision: 0.5731 - Recall: 0.8249 - F1: 0.6763\r\n",
      "Entity: 消极 - Precision: 0.8108 - Recall: 0.5497 - F1: 0.6552\r\n",
      "\r\n",
      "\r\n",
      "Epoch: 10/15 - Step: 0 - Loss: 0.5116246342658997\r\n",
      "\r\n",
      "\r\n",
      "Total: Precision: 0.6685 - Recall: 0.6685 - F1: 0.6685\r\n",
      "Entity: 积极 - Precision: 0.5764 - Recall: 0.8153 - F1: 0.6753\r\n",
      "Entity: 消极 - Precision: 0.8056 - Recall: 0.5609 - F1: 0.6613\r\n",
      "\r\n",
      "\r\n",
      "Epoch: 11/15 - Step: 0 - Loss: 0.5070785284042358\r\n",
      "\r\n",
      "\r\n",
      "Total: Precision: 0.6681 - Recall: 0.6681 - F1: 0.6681\r\n",
      "Entity: 积极 - Precision: 0.5767 - Recall: 0.8088 - F1: 0.6734\r\n",
      "Entity: 消极 - Precision: 0.8013 - Recall: 0.565 - F1: 0.6628\r\n",
      "\r\n",
      "\r\n",
      "Epoch: 12/15 - Step: 0 - Loss: 0.4490121304988861\r\n",
      "\r\n",
      "\r\n",
      "Total: Precision: 0.6692 - Recall: 0.6692 - F1: 0.6692\r\n",
      "Entity: 积极 - Precision: 0.5765 - Recall: 0.8201 - F1: 0.6771\r\n",
      "Entity: 消极 - Precision: 0.809 - Recall: 0.5586 - F1: 0.6609\r\n",
      "\r\n",
      "\r\n",
      "Epoch: 13/15 - Step: 0 - Loss: 0.47562476992607117\r\n",
      "\r\n",
      "\r\n",
      "Total: Precision: 0.6906 - Recall: 0.6906 - F1: 0.6906\r\n",
      "Entity: 积极 - Precision: 0.6219 - Recall: 0.6843 - F1: 0.6516\r\n",
      "Entity: 消极 - Precision: 0.7503 - Recall: 0.6951 - F1: 0.7217\r\n",
      "\r\n",
      "\r\n",
      "Epoch: 14/15 - Step: 0 - Loss: 0.43852636218070984\r\n",
      "\r\n",
      "\r\n",
      "Total: Precision: 0.6861 - Recall: 0.6861 - F1: 0.6861\r\n",
      "Entity: 积极 - Precision: 0.6096 - Recall: 0.7173 - F1: 0.659\r\n",
      "Entity: 消极 - Precision: 0.762 - Recall: 0.6633 - F1: 0.7093\r\n",
      "\r\n",
      "\r\n",
      "Epoch: 15/15 - Step: 0 - Loss: 0.4380183219909668\r\n",
      "\r\n",
      "\r\n",
      "Total: Precision: 0.6923 - Recall: 0.6923 - F1: 0.6923\r\n",
      "Entity: 积极 - Precision: 0.622 - Recall: 0.694 - F1: 0.656\r\n",
      "Entity: 消极 - Precision: 0.755 - Recall: 0.691 - F1: 0.7216\r\n",
      "\r\n",
      "\r\n"
     ]
    }
   ],
   "source": [
    "# 模型训练与评估\n",
    "from utils.metric import Metric\n",
    "\n",
    "\n",
    "# 模型评估代码\n",
    "def evaluate(model):\n",
    "    model.eval()\n",
    "    metric = Metric(id2label)\n",
    "\n",
    "    for batch_texts, batch_labels in build_batch(test_set, batch_size, max_seq_len, shuffle=False, pad_id=word_dict[\"[pad]\"]):\n",
    "        # 将数据转换为Tensor类型\n",
    "        batch_texts = paddle.to_tensor(batch_texts)\n",
    "        batch_labels = paddle.to_tensor(batch_labels)\n",
    "\n",
    "        # 执行模型的前向计算\n",
    "        logits = model(batch_texts)\n",
    "\n",
    "        # 使用softmax进行归一化\n",
    "        probs = F.softmax(logits)\n",
    "\n",
    "        probs = paddle.argmax(probs, axis=1).numpy()\n",
    "        batch_labels = batch_labels.squeeze().numpy()\n",
    "        \n",
    "        metric.update(real_labels=batch_labels, pred_labels=probs)\n",
    "    \n",
    "    result = metric.get_result()\n",
    "    metric.format_print(result)\n",
    "\n",
    "\n",
    "# 模型训练代码\n",
    "# 记录训练过程中的中间变量\n",
    "loss_records = []\n",
    "def train(model):\n",
    "    \n",
    "\n",
    "    global_step = 0\n",
    "    for epoch in range(n_epochs):\n",
    "        model.train()\n",
    "        for step, (batch_texts, batch_labels) in enumerate(build_batch(train_set, batch_size, max_seq_len, shuffle=True, pad_id=word_dict[\"[pad]\"])):\n",
    "            # 将数据转换为Tensor类型\n",
    "            batch_texts = paddle.to_tensor(batch_texts)\n",
    "            batch_labels = paddle.to_tensor(batch_labels)\n",
    "\n",
    "            # 执行模型的前向计算\n",
    "            logits = model(batch_texts)\n",
    "\n",
    "            # 计算损失\n",
    "            losses = F.cross_entropy(input=logits, label=batch_labels, soft_label=False)\n",
    "            loss = paddle.mean(losses)\n",
    "\n",
    "            loss.backward()\n",
    "            optimizer.step()\n",
    "            optimizer.clear_gradients()\n",
    "\n",
    "            if step % 200 == 0:\n",
    "                loss_records.append((global_step, loss.numpy()[0]))\n",
    "                print(f\"Epoch: {epoch+1}/{n_epochs} - Step: {step} - Loss: {loss.numpy()[0]}\")\n",
    "\n",
    "            global_step += 1\n",
    "        \n",
    "        # 模型评估\n",
    "        evaluate(model)\n",
    "\n",
    "# 训练模型\n",
    "train(classifier)"
   ]
  },
  {
   "cell_type": "code",
   "execution_count": 49,
   "metadata": {
    "execution": {
     "iopub.execute_input": "2023-01-24T11:02:46.969653Z",
     "iopub.status.busy": "2023-01-24T11:02:46.968942Z",
     "iopub.status.idle": "2023-01-24T11:02:47.374996Z",
     "shell.execute_reply": "2023-01-24T11:02:47.374142Z",
     "shell.execute_reply.started": "2023-01-24T11:02:46.969621Z"
    },
    "scrolled": true
   },
   "outputs": [
    {
     "data": {
      "image/png": "[encoded data removed]",
      "text/plain": [
       "<Figure size 640x480 with 1 Axes>"
      ]
     },
     "metadata": {},
     "output_type": "display_data"
    }
   ],
   "source": [
    "# 训练可视化\n",
    "import matplotlib.pyplot as plt\n",
    "\n",
    "# 开始画图，横轴是训练step，纵轴是损失\n",
    "loss_records =  np.array(loss_records)\n",
    "steps, losses = loss_records[:, 0], loss_records[:, 1]\n",
    "\n",
    "plt.plot(steps, losses, \"-o\")\n",
    "plt.xlabel(\"step\")\n",
    "plt.ylabel(\"loss\")\n",
    "plt.savefig(\"./loss.png\")\n",
    "plt.show()"
   ]
  },
  {
   "cell_type": "code",
   "execution_count": 50,
   "metadata": {
    "execution": {
     "iopub.execute_input": "2023-01-24T11:02:53.908670Z",
     "iopub.status.busy": "2023-01-24T11:02:53.907756Z",
     "iopub.status.idle": "2023-01-24T11:02:54.044185Z",
     "shell.execute_reply": "2023-01-24T11:02:54.043333Z",
     "shell.execute_reply.started": "2023-01-24T11:02:53.908639Z"
    },
    "scrolled": true
   },
   "outputs": [],
   "source": [
    "# 保存模型\n",
    "# 模型保存的名称\n",
    "model_name = \"classifier\"\n",
    "# 保存模型\n",
    "paddle.save(classifier.state_dict(), \"{}.pdparams\".format(model_name))\n",
    "paddle.save(optimizer.state_dict(), \"{}.optparams\".format(model_name))"
   ]
  },
  {
   "cell_type": "markdown",
   "metadata": {},
   "source": [
    "## 模型预测"
   ]
  },
  {
   "cell_type": "code",
   "execution_count": 53,
   "metadata": {
    "execution": {
     "iopub.execute_input": "2023-01-24T11:03:49.267434Z",
     "iopub.status.busy": "2023-01-24T11:03:49.266706Z",
     "iopub.status.idle": "2023-01-24T11:03:49.276502Z",
     "shell.execute_reply": "2023-01-24T11:03:49.275745Z",
     "shell.execute_reply.started": "2023-01-24T11:03:49.267401Z"
    },
    "scrolled": true
   },
   "outputs": [
    {
     "name": "stdout",
     "output_type": "stream",
     "text": [
      "Label:  积极\r\n"
     ]
    }
   ],
   "source": [
    "# 模型预测代码\n",
    "def infer(model, text):\n",
    "    model.eval()\n",
    "    # 数据处理\n",
    "    tokens = [word_dict.get(word, word_dict[\"[oov]\"]) for word in jieba.cut(text)]\n",
    "\n",
    "    # 构造输入模型的数据\n",
    "    tokens = paddle.to_tensor(tokens, dtype=\"int64\").unsqueeze(0)\n",
    "\n",
    "\n",
    "    # 计算发射分数\n",
    "    logits = model(tokens)\n",
    "    probs = F.softmax(logits)\n",
    "\n",
    "    # 解析出分数最大的标签\n",
    "    max_label_id = paddle.argmax(logits, axis=1).numpy()[0]\n",
    "    pred_label = id2label[max_label_id]\n",
    "\n",
    "    print(\"Label: \", pred_label)\n",
    "\n",
    "title = \"速度好\"\n",
    "infer(classifier, title)\n"
   ]
  },
  {
   "cell_type": "code",
   "execution_count": null,
   "metadata": {
    "scrolled": true
   },
   "outputs": [],
   "source": []
  }
 ],
 "metadata": {
  "kernelspec": {
   "display_name": "Python 3",
   "language": "python",
   "name": "py35-paddle1.2.0"
  },
  "language_info": {
   "codemirror_mode": {
    "name": "ipython",
    "version": 3
   },
   "file_extension": ".py",
   "mimetype": "text/x-python",
   "name": "python",
   "nbconvert_exporter": "python",
   "pygments_lexer": "ipython3",
   "version": "3.7.4"
  }
 },
 "nbformat": 4,
 "nbformat_minor": 4
}
